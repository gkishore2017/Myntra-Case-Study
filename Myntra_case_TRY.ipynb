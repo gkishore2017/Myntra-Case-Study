{
 "cells": [
  {
   "cell_type": "code",
   "execution_count": 1,
   "id": "c4097486",
   "metadata": {},
   "outputs": [],
   "source": [
    "#Data Handling Library\n",
    "import pandas as pd\n",
    "import numpy as np\n",
    "\n",
    "from sklearn.linear_model import LogisticRegression\n",
    "from sklearn.model_selection import train_test_split"
   ]
  },
  {
   "cell_type": "code",
   "execution_count": 2,
   "id": "55133e9e",
   "metadata": {},
   "outputs": [
    {
     "data": {
      "text/html": [
       "<div>\n",
       "<style scoped>\n",
       "    .dataframe tbody tr th:only-of-type {\n",
       "        vertical-align: middle;\n",
       "    }\n",
       "\n",
       "    .dataframe tbody tr th {\n",
       "        vertical-align: top;\n",
       "    }\n",
       "\n",
       "    .dataframe thead th {\n",
       "        text-align: right;\n",
       "    }\n",
       "</style>\n",
       "<table border=\"1\" class=\"dataframe\">\n",
       "  <thead>\n",
       "    <tr style=\"text-align: right;\">\n",
       "      <th></th>\n",
       "      <th>Time (Mins)</th>\n",
       "      <th>Recall Rate</th>\n",
       "    </tr>\n",
       "  </thead>\n",
       "  <tbody>\n",
       "    <tr>\n",
       "      <th>0</th>\n",
       "      <td>1</td>\n",
       "      <td>84%</td>\n",
       "    </tr>\n",
       "    <tr>\n",
       "      <th>1</th>\n",
       "      <td>5</td>\n",
       "      <td>71%</td>\n",
       "    </tr>\n",
       "    <tr>\n",
       "      <th>2</th>\n",
       "      <td>15</td>\n",
       "      <td>61%</td>\n",
       "    </tr>\n",
       "    <tr>\n",
       "      <th>3</th>\n",
       "      <td>30</td>\n",
       "      <td>56%</td>\n",
       "    </tr>\n",
       "    <tr>\n",
       "      <th>4</th>\n",
       "      <td>60</td>\n",
       "      <td>54%</td>\n",
       "    </tr>\n",
       "  </tbody>\n",
       "</table>\n",
       "</div>"
      ],
      "text/plain": [
       "   Time (Mins) Recall Rate\n",
       "0            1         84%\n",
       "1            5         71%\n",
       "2           15         61%\n",
       "3           30         56%\n",
       "4           60         54%"
      ]
     },
     "execution_count": 2,
     "metadata": {},
     "output_type": "execute_result"
    }
   ],
   "source": [
    "df = pd.read_csv('Myntra_Data_Raw.csv')\n",
    "df.head()"
   ]
  },
  {
   "cell_type": "code",
   "execution_count": 3,
   "id": "9aef76a3",
   "metadata": {},
   "outputs": [
    {
     "data": {
      "text/html": [
       "<div>\n",
       "<style scoped>\n",
       "    .dataframe tbody tr th:only-of-type {\n",
       "        vertical-align: middle;\n",
       "    }\n",
       "\n",
       "    .dataframe tbody tr th {\n",
       "        vertical-align: top;\n",
       "    }\n",
       "\n",
       "    .dataframe thead th {\n",
       "        text-align: right;\n",
       "    }\n",
       "</style>\n",
       "<table border=\"1\" class=\"dataframe\">\n",
       "  <thead>\n",
       "    <tr style=\"text-align: right;\">\n",
       "      <th></th>\n",
       "      <th>Time (Mins)</th>\n",
       "    </tr>\n",
       "  </thead>\n",
       "  <tbody>\n",
       "    <tr>\n",
       "      <th>count</th>\n",
       "      <td>13.000000</td>\n",
       "    </tr>\n",
       "    <tr>\n",
       "      <th>mean</th>\n",
       "      <td>1679.307692</td>\n",
       "    </tr>\n",
       "    <tr>\n",
       "      <th>std</th>\n",
       "      <td>3018.230508</td>\n",
       "    </tr>\n",
       "    <tr>\n",
       "      <th>min</th>\n",
       "      <td>1.000000</td>\n",
       "    </tr>\n",
       "    <tr>\n",
       "      <th>25%</th>\n",
       "      <td>30.000000</td>\n",
       "    </tr>\n",
       "    <tr>\n",
       "      <th>50%</th>\n",
       "      <td>240.000000</td>\n",
       "    </tr>\n",
       "    <tr>\n",
       "      <th>75%</th>\n",
       "      <td>1440.000000</td>\n",
       "    </tr>\n",
       "    <tr>\n",
       "      <th>max</th>\n",
       "      <td>10080.000000</td>\n",
       "    </tr>\n",
       "  </tbody>\n",
       "</table>\n",
       "</div>"
      ],
      "text/plain": [
       "        Time (Mins)\n",
       "count     13.000000\n",
       "mean    1679.307692\n",
       "std     3018.230508\n",
       "min        1.000000\n",
       "25%       30.000000\n",
       "50%      240.000000\n",
       "75%     1440.000000\n",
       "max    10080.000000"
      ]
     },
     "execution_count": 3,
     "metadata": {},
     "output_type": "execute_result"
    }
   ],
   "source": [
    "df.describe()"
   ]
  },
  {
   "cell_type": "code",
   "execution_count": 19,
   "id": "3aa18a69",
   "metadata": {},
   "outputs": [],
   "source": [
    "def Summary(df):\n",
    "    from collections import OrderedDict\n",
    "    result = []\n",
    "    for col in list(df.columns):\n",
    "        stats = OrderedDict({'col_name':col,\n",
    "                            'Count':df[col].count(),\n",
    "                             'Datatype':df[col].dtype,\n",
    "                             'Min':df[col].min(),\n",
    "                             'Q1':df[col].quantile(0.25),\n",
    "                             'Mean':df[col].mean(),\n",
    "                             'Mediam':df[col].quantile(0.50),\n",
    "                             'Q3':df[col].quantile(0.75),\n",
    "                             'Max':df[col].max(),\n",
    "                             'Variance':df[col].var(),\n",
    "                             'Stdev':df[col].std(),\n",
    "                             'Skewness':df[col].skew(),\n",
    "                             'Kurtosis':df[col].kurt(),\n",
    "                             'Range':df[col].max() - df[col].min(),\n",
    "                             'IQR': df[col].quantile(0.75) - df[col].quantile(0.25)\n",
    "                            })\n",
    "        \n",
    "        result.append(stats)\n",
    "    resultdf = pd.DataFrame(data = result)\n",
    "    return resultdf"
   ]
  },
  {
   "cell_type": "code",
   "execution_count": null,
   "id": "ecf90664",
   "metadata": {},
   "outputs": [],
   "source": []
  },
  {
   "cell_type": "code",
   "execution_count": null,
   "id": "c60d350c",
   "metadata": {},
   "outputs": [],
   "source": []
  },
  {
   "cell_type": "code",
   "execution_count": 4,
   "id": "729f0ed6",
   "metadata": {},
   "outputs": [],
   "source": [
    "x = df.drop('Recall Rate', axis=1)"
   ]
  },
  {
   "cell_type": "code",
   "execution_count": 5,
   "id": "2b55ca3b",
   "metadata": {},
   "outputs": [
    {
     "data": {
      "text/html": [
       "<div>\n",
       "<style scoped>\n",
       "    .dataframe tbody tr th:only-of-type {\n",
       "        vertical-align: middle;\n",
       "    }\n",
       "\n",
       "    .dataframe tbody tr th {\n",
       "        vertical-align: top;\n",
       "    }\n",
       "\n",
       "    .dataframe thead th {\n",
       "        text-align: right;\n",
       "    }\n",
       "</style>\n",
       "<table border=\"1\" class=\"dataframe\">\n",
       "  <thead>\n",
       "    <tr style=\"text-align: right;\">\n",
       "      <th></th>\n",
       "      <th>Time (Mins)</th>\n",
       "    </tr>\n",
       "  </thead>\n",
       "  <tbody>\n",
       "    <tr>\n",
       "      <th>0</th>\n",
       "      <td>1</td>\n",
       "    </tr>\n",
       "    <tr>\n",
       "      <th>1</th>\n",
       "      <td>5</td>\n",
       "    </tr>\n",
       "    <tr>\n",
       "      <th>2</th>\n",
       "      <td>15</td>\n",
       "    </tr>\n",
       "    <tr>\n",
       "      <th>3</th>\n",
       "      <td>30</td>\n",
       "    </tr>\n",
       "    <tr>\n",
       "      <th>4</th>\n",
       "      <td>60</td>\n",
       "    </tr>\n",
       "  </tbody>\n",
       "</table>\n",
       "</div>"
      ],
      "text/plain": [
       "   Time (Mins)\n",
       "0            1\n",
       "1            5\n",
       "2           15\n",
       "3           30\n",
       "4           60"
      ]
     },
     "execution_count": 5,
     "metadata": {},
     "output_type": "execute_result"
    }
   ],
   "source": [
    "x.head()"
   ]
  },
  {
   "cell_type": "code",
   "execution_count": 6,
   "id": "de931c29",
   "metadata": {},
   "outputs": [
    {
     "data": {
      "text/html": [
       "<div>\n",
       "<style scoped>\n",
       "    .dataframe tbody tr th:only-of-type {\n",
       "        vertical-align: middle;\n",
       "    }\n",
       "\n",
       "    .dataframe tbody tr th {\n",
       "        vertical-align: top;\n",
       "    }\n",
       "\n",
       "    .dataframe thead th {\n",
       "        text-align: right;\n",
       "    }\n",
       "</style>\n",
       "<table border=\"1\" class=\"dataframe\">\n",
       "  <thead>\n",
       "    <tr style=\"text-align: right;\">\n",
       "      <th></th>\n",
       "      <th>Recall Rate</th>\n",
       "    </tr>\n",
       "  </thead>\n",
       "  <tbody>\n",
       "    <tr>\n",
       "      <th>0</th>\n",
       "      <td>84%</td>\n",
       "    </tr>\n",
       "    <tr>\n",
       "      <th>1</th>\n",
       "      <td>71%</td>\n",
       "    </tr>\n",
       "    <tr>\n",
       "      <th>2</th>\n",
       "      <td>61%</td>\n",
       "    </tr>\n",
       "    <tr>\n",
       "      <th>3</th>\n",
       "      <td>56%</td>\n",
       "    </tr>\n",
       "    <tr>\n",
       "      <th>4</th>\n",
       "      <td>54%</td>\n",
       "    </tr>\n",
       "  </tbody>\n",
       "</table>\n",
       "</div>"
      ],
      "text/plain": [
       "  Recall Rate\n",
       "0         84%\n",
       "1         71%\n",
       "2         61%\n",
       "3         56%\n",
       "4         54%"
      ]
     },
     "execution_count": 6,
     "metadata": {},
     "output_type": "execute_result"
    }
   ],
   "source": [
    "y = df[[\"Recall Rate\"]]\n",
    "y.head()\n"
   ]
  },
  {
   "cell_type": "code",
   "execution_count": 7,
   "id": "532f8328",
   "metadata": {},
   "outputs": [],
   "source": [
    "from sklearn.model_selection import train_test_split\n",
    "\n",
    "from sklearn.linear_model import LogisticRegression"
   ]
  },
  {
   "cell_type": "code",
   "execution_count": 8,
   "id": "da08aaa5",
   "metadata": {},
   "outputs": [],
   "source": [
    "x_train, x_test, y_train, y_test = train_test_split(x, y, test_size = 0.3, random_state = 20)"
   ]
  },
  {
   "cell_type": "code",
   "execution_count": 9,
   "id": "fedeaba9",
   "metadata": {},
   "outputs": [
    {
     "name": "stderr",
     "output_type": "stream",
     "text": [
      "C:\\Users\\GOD\\anaconda3\\lib\\site-packages\\sklearn\\utils\\validation.py:63: DataConversionWarning: A column-vector y was passed when a 1d array was expected. Please change the shape of y to (n_samples, ), for example using ravel().\n",
      "  return f(*args, **kwargs)\n",
      "C:\\Users\\GOD\\anaconda3\\lib\\site-packages\\sklearn\\linear_model\\_logistic.py:763: ConvergenceWarning: lbfgs failed to converge (status=1):\n",
      "STOP: TOTAL NO. of ITERATIONS REACHED LIMIT.\n",
      "\n",
      "Increase the number of iterations (max_iter) or scale the data as shown in:\n",
      "    https://scikit-learn.org/stable/modules/preprocessing.html\n",
      "Please also refer to the documentation for alternative solver options:\n",
      "    https://scikit-learn.org/stable/modules/linear_model.html#logistic-regression\n",
      "  n_iter_i = _check_optimize_result(\n"
     ]
    },
    {
     "data": {
      "text/plain": [
       "LogisticRegression()"
      ]
     },
     "execution_count": 9,
     "metadata": {},
     "output_type": "execute_result"
    }
   ],
   "source": [
    "log_reg = LogisticRegression()\n",
    "log_reg.fit(x_train, y_train)"
   ]
  },
  {
   "cell_type": "code",
   "execution_count": 10,
   "id": "a801c545",
   "metadata": {},
   "outputs": [
    {
     "data": {
      "text/plain": [
       "LogisticRegression(multi_class='ovr', n_jobs=1, solver='liblinear')"
      ]
     },
     "execution_count": 10,
     "metadata": {},
     "output_type": "execute_result"
    }
   ],
   "source": [
    "LogisticRegression(C=1.0, class_weight=None, dual=False, fit_intercept=True,\n",
    "          intercept_scaling=1, max_iter=100, multi_class='ovr', n_jobs=1,\n",
    "          penalty='l2', random_state=None, solver='liblinear', tol=0.0001,\n",
    "          verbose=0, warm_start=False)"
   ]
  },
  {
   "cell_type": "code",
   "execution_count": 11,
   "id": "2904887d",
   "metadata": {},
   "outputs": [
    {
     "name": "stderr",
     "output_type": "stream",
     "text": [
      "C:\\Users\\GOD\\anaconda3\\lib\\site-packages\\sklearn\\utils\\validation.py:63: DataConversionWarning: A column-vector y was passed when a 1d array was expected. Please change the shape of y to (n_samples, ), for example using ravel().\n",
      "  return f(*args, **kwargs)\n"
     ]
    }
   ],
   "source": [
    "model = LogisticRegression(solver='liblinear', random_state=0).fit(x, y)\n"
   ]
  },
  {
   "cell_type": "code",
   "execution_count": 12,
   "id": "a18df199",
   "metadata": {},
   "outputs": [
    {
     "data": {
      "text/plain": [
       "array(['16%', '20%', '26%', '36%', '38%', '45%', '47%', '54%', '56%',\n",
       "       '61%', '71%', '8%', '84%'], dtype=object)"
      ]
     },
     "execution_count": 12,
     "metadata": {},
     "output_type": "execute_result"
    }
   ],
   "source": [
    "model.classes_"
   ]
  },
  {
   "cell_type": "code",
   "execution_count": 13,
   "id": "5e1ad64a",
   "metadata": {},
   "outputs": [
    {
     "data": {
      "text/plain": [
       "array([-1.55121439, -1.37740945, -1.26511479, -1.1636241 , -1.06843319,\n",
       "       -0.95079124, -0.80934283, -0.66924243, -0.49004498, -0.29266895,\n",
       "       -0.00440787, -1.8047457 ,  0.33961875])"
      ]
     },
     "execution_count": 13,
     "metadata": {},
     "output_type": "execute_result"
    }
   ],
   "source": [
    "model.intercept_"
   ]
  },
  {
   "cell_type": "code",
   "execution_count": 14,
   "id": "b4875ca6",
   "metadata": {},
   "outputs": [
    {
     "data": {
      "text/plain": [
       "array([[ 7.60202674e-05],\n",
       "       [-8.01299435e-05],\n",
       "       [-2.62055410e-04],\n",
       "       [-5.82234376e-04],\n",
       "       [-9.63476471e-04],\n",
       "       [-2.16137818e-03],\n",
       "       [-4.59440187e-03],\n",
       "       [-9.52657520e-03],\n",
       "       [-2.07600861e-02],\n",
       "       [-4.36563603e-02],\n",
       "       [-1.20657029e-01],\n",
       "       [ 2.40390148e-04],\n",
       "       [-3.86893144e-01]])"
      ]
     },
     "execution_count": 14,
     "metadata": {},
     "output_type": "execute_result"
    }
   ],
   "source": [
    " model.coef_"
   ]
  },
  {
   "cell_type": "code",
   "execution_count": 15,
   "id": "27ebb4f6",
   "metadata": {},
   "outputs": [
    {
     "data": {
      "text/plain": [
       "array([[4.48327569e-002, 5.16223318e-002, 5.63990754e-002,\n",
       "        6.09751151e-002, 6.54896175e-002, 7.13265198e-002,\n",
       "        7.86979362e-002, 8.62547241e-002, 9.61143153e-002,\n",
       "        1.06801464e-001, 1.20147621e-001, 3.62163109e-002,\n",
       "        1.25122212e-001],\n",
       "       [5.16170207e-002, 5.94039032e-002, 6.48642517e-002,\n",
       "        7.00599991e-002, 7.51647660e-002, 8.15880421e-002,\n",
       "        8.94346242e-002, 9.67879769e-002, 1.04951430e-001,\n",
       "        1.10620868e-001, 1.04017011e-001, 4.17206733e-002,\n",
       "        4.97694343e-002],\n",
       "       [6.17876816e-002, 7.10188493e-002, 7.74379584e-002,\n",
       "        8.34405737e-002, 8.92747959e-002, 9.60842304e-002,\n",
       "        1.03595704e-001, 1.08499783e-001, 1.09305075e-001,\n",
       "        9.86005663e-002, 4.94524503e-002, 5.00131389e-002,\n",
       "        1.48919340e-003],\n",
       "       [7.04777273e-002, 8.08533707e-002, 8.79756064e-002,\n",
       "        9.44538447e-002, 1.00640558e-001, 1.06930571e-001,\n",
       "        1.12389866e-001, 1.11754063e-001, 9.94747635e-002,\n",
       "        6.74259022e-002, 1.04484320e-002, 5.71701530e-002,\n",
       "        5.14209548e-006],\n",
       "       [8.18257594e-002, 9.35158536e-002, 1.01324390e-001,\n",
       "        1.08000296e-001, 1.14116610e-001, 1.18106529e-001,\n",
       "        1.17707271e-001, 1.04532144e-001, 6.98462751e-002,\n",
       "        2.40304095e-002, 3.32792737e-004, 6.66616698e-002,\n",
       "        5.42500817e-011],\n",
       "       [9.67273828e-002, 1.09709018e-001, 1.17865809e-001,\n",
       "        1.23808104e-001, 1.28612834e-001, 1.26059854e-001,\n",
       "        1.12040679e-001, 7.70303152e-002, 2.64991975e-002,\n",
       "        2.16510615e-003, 2.81494458e-007, 7.94814173e-002,\n",
       "        5.29534035e-021],\n",
       "       [1.15969701e-001, 1.29548366e-001, 1.36823795e-001,\n",
       "        1.39508801e-001, 1.39914367e-001, 1.22145482e-001,\n",
       "        8.40948074e-002, 3.23114004e-002, 2.73223534e-003,\n",
       "        1.37263400e-005, 1.72552932e-013, 9.69373191e-002,\n",
       "        4.32873598e-041],\n",
       "       [1.41686476e-001, 1.53532942e-001, 1.56641442e-001,\n",
       "        1.50197292e-001, 1.39817218e-001, 9.46793821e-002,\n",
       "        3.67644652e-002, 4.13633591e-003, 2.26446765e-005,\n",
       "        4.65274964e-010, 5.51107619e-026, 1.22521801e-001,\n",
       "        2.45869729e-081],\n",
       "       [1.60888633e-001, 1.69114335e-001, 1.66575861e-001,\n",
       "        1.49846367e-001, 1.28853444e-001, 6.62810059e-002,\n",
       "        1.40944260e-002, 4.72524606e-004, 1.73721249e-007,\n",
       "        1.46585141e-014, 1.63600621e-038, 1.43873231e-001,\n",
       "        1.29802628e-121],\n",
       "       [2.03248308e-001, 1.94988865e-001, 1.72277235e-001,\n",
       "        1.26436955e-001, 8.39584528e-002, 1.79617820e-002,\n",
       "        6.32922647e-004, 5.99723997e-007, 6.76889183e-014,\n",
       "        3.95614403e-028, 3.69378737e-076, 2.00494880e-001,\n",
       "        1.64839052e-242],\n",
       "       [2.55518402e-001, 2.04187612e-001, 1.43356570e-001,\n",
       "        6.75276593e-002, 2.56696798e-002, 9.35595999e-004,\n",
       "        9.76566825e-007, 7.61275820e-013, 8.10679846e-027,\n",
       "        2.27320760e-055, 1.48541736e-151, 3.02803504e-001,\n",
       "        0.00000000e+000],\n",
       "       [2.90277557e-001, 1.61046861e-001, 6.89328709e-002,\n",
       "        1.26802132e-002, 1.56643672e-003, 1.77823349e-006,\n",
       "        1.67927888e-012, 8.87069074e-025, 8.40906396e-053,\n",
       "        5.42759941e-110, 1.73714624e-302, 4.65494282e-001,\n",
       "        0.00000000e+000],\n",
       "       [2.88765480e-001, 9.31904343e-002, 1.81705130e-002,\n",
       "        8.12949018e-004, 1.91787038e-005, 1.22992651e-010,\n",
       "        3.16438913e-021, 9.32431276e-043, 7.42388722e-092,\n",
       "        5.29172303e-192, 0.00000000e+000, 5.99041444e-001,\n",
       "        0.00000000e+000]])"
      ]
     },
     "execution_count": 15,
     "metadata": {},
     "output_type": "execute_result"
    }
   ],
   "source": [
    "model.predict_proba(x)"
   ]
  },
  {
   "cell_type": "code",
   "execution_count": 16,
   "id": "1fd32310",
   "metadata": {},
   "outputs": [
    {
     "data": {
      "text/plain": [
       "array(['84%', '61%', '56%', '47%', '45%', '38%', '38%', '26%', '20%',\n",
       "       '16%', '8%', '8%', '8%'], dtype=object)"
      ]
     },
     "execution_count": 16,
     "metadata": {},
     "output_type": "execute_result"
    }
   ],
   "source": [
    "model.predict(x)"
   ]
  },
  {
   "cell_type": "code",
   "execution_count": 17,
   "id": "06f283bf",
   "metadata": {},
   "outputs": [
    {
     "data": {
      "text/plain": [
       "0.15384615384615385"
      ]
     },
     "execution_count": 17,
     "metadata": {},
     "output_type": "execute_result"
    }
   ],
   "source": [
    " model.score(x, y)"
   ]
  },
  {
   "cell_type": "code",
   "execution_count": null,
   "id": "1edc86df",
   "metadata": {},
   "outputs": [],
   "source": []
  },
  {
   "cell_type": "code",
   "execution_count": null,
   "id": "ea4f28b1",
   "metadata": {},
   "outputs": [],
   "source": []
  }
 ],
 "metadata": {
  "kernelspec": {
   "display_name": "Python 3",
   "language": "python",
   "name": "python3"
  },
  "language_info": {
   "codemirror_mode": {
    "name": "ipython",
    "version": 3
   },
   "file_extension": ".py",
   "mimetype": "text/x-python",
   "name": "python",
   "nbconvert_exporter": "python",
   "pygments_lexer": "ipython3",
   "version": "3.8.8"
  }
 },
 "nbformat": 4,
 "nbformat_minor": 5
}
